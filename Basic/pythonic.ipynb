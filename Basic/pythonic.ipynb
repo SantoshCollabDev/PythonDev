{
 "cells": [
  {
   "cell_type": "markdown",
   "metadata": {},
   "source": [
    "In this notebook, lets learn writing pythonic code"
   ]
  },
  {
   "cell_type": "code",
   "execution_count": 4,
   "metadata": {},
   "outputs": [],
   "source": [
    "def get_fibonacci_sequence(end: int):\n",
    "\n",
    "  if end <= 2:\n",
    "    return None\n",
    "  \n",
    "  first = 1\n",
    "  second = 2\n",
    "\n",
    "  fibonacci_sequence = []\n",
    "  fibonacci_sequence.append(first)\n",
    "  fibonacci_sequence.append(second)\n",
    "\n",
    "  while True:\n",
    "    third = first + second\n",
    "    if third > end:\n",
    "      return fibonacci_sequence\n",
    "    fibonacci_sequence.append(third)\n",
    "    first = second\n",
    "    second = third\n"
   ]
  },
  {
   "cell_type": "code",
   "execution_count": 5,
   "metadata": {},
   "outputs": [],
   "source": [
    "def is_even(number) -> bool:\n",
    "  if number <= 0:\n",
    "    return False\n",
    "  return number % 2 == 0"
   ]
  },
  {
   "cell_type": "code",
   "execution_count": 7,
   "metadata": {},
   "outputs": [],
   "source": [
    "def project_euler(): \n",
    "  max = 4000000\n",
    "  sequence = get_fibonacci_sequence(max)\n",
    "  print(\"fibinacci under 4 million are\")\n",
    "  print(sequence)\n",
    "  even_sequence = []\n",
    "  for item in sequence:\n",
    "    if is_even(item):\n",
    "      even_sequence.append(item)\n",
    "  print(\"even numbers in the sequence are as follows\")\n",
    "  print(even_sequence)\n",
    "  sum_of_even_fibonacci = sum(even_sequence)\n",
    "  print(sum_of_even_fibonacci)\n"
   ]
  },
  {
   "cell_type": "code",
   "execution_count": 8,
   "metadata": {},
   "outputs": [
    {
     "name": "stdout",
     "output_type": "stream",
     "text": [
      "fibinacci under 4 million are\n",
      "[1, 2, 3, 5, 8, 13, 21, 34, 55, 89, 144, 233, 377, 610, 987, 1597, 2584, 4181, 6765, 10946, 17711, 28657, 46368, 75025, 121393, 196418, 317811, 514229, 832040, 1346269, 2178309, 3524578]\n",
      "even numbers in the sequence are as follows\n",
      "[2, 8, 34, 144, 610, 2584, 10946, 46368, 196418, 832040, 3524578]\n",
      "4613732\n"
     ]
    }
   ],
   "source": [
    "project_euler()"
   ]
  },
  {
   "cell_type": "code",
   "execution_count": 9,
   "metadata": {},
   "outputs": [
    {
     "data": {
      "text/plain": [
       "[1,\n",
       " 2,\n",
       " 3,\n",
       " 5,\n",
       " 8,\n",
       " 13,\n",
       " 21,\n",
       " 34,\n",
       " 55,\n",
       " 89,\n",
       " 144,\n",
       " 233,\n",
       " 377,\n",
       " 610,\n",
       " 987,\n",
       " 1597,\n",
       " 2584,\n",
       " 4181,\n",
       " 6765,\n",
       " 10946,\n",
       " 17711,\n",
       " 28657,\n",
       " 46368,\n",
       " 75025,\n",
       " 121393,\n",
       " 196418,\n",
       " 317811,\n",
       " 514229,\n",
       " 832040,\n",
       " 1346269,\n",
       " 2178309,\n",
       " 3524578]"
      ]
     },
     "execution_count": 9,
     "metadata": {},
     "output_type": "execute_result"
    }
   ],
   "source": [
    "max = 4000000\n",
    "list(get_fibonacci_sequence(max))"
   ]
  },
  {
   "cell_type": "code",
   "execution_count": 12,
   "metadata": {},
   "outputs": [
    {
     "data": {
      "text/plain": [
       "[2, 8, 34, 144, 610, 2584, 10946, 46368, 196418, 832040, 3524578]"
      ]
     },
     "execution_count": 12,
     "metadata": {},
     "output_type": "execute_result"
    }
   ],
   "source": [
    "max = 4000000\n",
    "list(filter(is_even, get_fibonacci_sequence(max)))"
   ]
  },
  {
   "cell_type": "code",
   "execution_count": 13,
   "metadata": {},
   "outputs": [
    {
     "data": {
      "text/plain": [
       "4613732"
      ]
     },
     "execution_count": 13,
     "metadata": {},
     "output_type": "execute_result"
    }
   ],
   "source": [
    "max = 4000000\n",
    "sum(filter(is_even, get_fibonacci_sequence(max)))"
   ]
  }
 ],
 "metadata": {
  "kernelspec": {
   "display_name": "Python 3",
   "language": "python",
   "name": "python3"
  },
  "language_info": {
   "codemirror_mode": {
    "name": "ipython",
    "version": 3
   },
   "file_extension": ".py",
   "mimetype": "text/x-python",
   "name": "python",
   "nbconvert_exporter": "python",
   "pygments_lexer": "ipython3",
   "version": "3.12.3"
  }
 },
 "nbformat": 4,
 "nbformat_minor": 2
}
