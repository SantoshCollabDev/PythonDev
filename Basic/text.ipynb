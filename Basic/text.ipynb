{
 "cells": [
  {
   "cell_type": "code",
   "execution_count": 3,
   "metadata": {},
   "outputs": [
    {
     "name": "stdout",
     "output_type": "stream",
     "text": [
      "black,white,green,red\n"
     ]
    }
   ],
   "source": [
    "# .JOIN()  - To combine words into a single string\n",
    "\n",
    "colors = ['black','white','green','red']\n",
    "# print in one line or combine into one string\n",
    "fav_colors = \",\".join(colors)\n",
    "print(fav_colors)"
   ]
  },
  {
   "cell_type": "code",
   "execution_count": 6,
   "metadata": {},
   "outputs": [
    {
     "name": "stdout",
     "output_type": "stream",
     "text": [
      "santosh\n",
      "      santosh\n",
      "santosh  \n"
     ]
    }
   ],
   "source": [
    "name = \"      santosh  \"\n",
    "print(name.strip())\n",
    "print(name.rstrip())\n",
    "print(name.lstrip())"
   ]
  },
  {
   "cell_type": "code",
   "execution_count": 7,
   "metadata": {},
   "outputs": [
    {
     "name": "stdout",
     "output_type": "stream",
     "text": [
      "('Aws ', 'is', ' first cloud')\n"
     ]
    }
   ],
   "source": [
    "# PARTITION()\n",
    "\n",
    "word = \"Aws is first cloud\"\n",
    "result = word.partition('is')\n",
    "print(result)"
   ]
  },
  {
   "cell_type": "code",
   "execution_count": 23,
   "metadata": {},
   "outputs": [
    {
     "name": "stdout",
     "output_type": "stream",
     "text": [
      "Hello\n",
      "How are you?\n",
      "Things are grat here! \n",
      "['Hello', 'How are you?', 'Things are grat here! ']\n",
      "words are ['Hello']\n",
      "words are ['How', 'are', 'you?']\n",
      "words are ['Things', 'are', 'grat', 'here!']\n",
      "total number of words are 8\n"
     ]
    }
   ],
   "source": [
    "# SPLIT()\n",
    "\n",
    "statement = \"\"\"Hello\n",
    "How are you?\n",
    "Things are grat here! \"\"\"\n",
    "print(statement)\n",
    "lines = statement.split(\"\\n\")\n",
    "print(lines)\n",
    "\n",
    "word_count = 0\n",
    "for line in lines:\n",
    "  words = line.strip().split(\" \")\n",
    "  word_count += len(words)\n",
    "  print(f'words are {words}')\n",
    "print(f\"total number of words are {word_count}\")"
   ]
  },
  {
   "cell_type": "code",
   "execution_count": 29,
   "metadata": {},
   "outputs": [
    {
     "name": "stdout",
     "output_type": "stream",
     "text": [
      "C:\test\test.py\n",
      "C:\\test\\test.py\n"
     ]
    }
   ],
   "source": [
    "# escape sequences\n",
    "\n",
    "path = \"C:\\test\\test.py\"   #\\t --- tab\n",
    "print(path)\n",
    "\n",
    "# to ignore escape sequecnes use RAW format\n",
    "path = r\"C:\\test\\test.py\"\n",
    "print(path)"
   ]
  },
  {
   "cell_type": "code",
   "execution_count": 32,
   "metadata": {},
   "outputs": [
    {
     "name": "stdout",
     "output_type": "stream",
     "text": [
      "C:\\test\\test.py\n"
     ]
    }
   ],
   "source": [
    "# use \\\\  --- to IGNORE escpae sequence\n",
    "\n",
    "path = \"C:\\\\test\\\\test.py\"   #\\t --- tab\n",
    "print(path)"
   ]
  },
  {
   "cell_type": "code",
   "execution_count": 37,
   "metadata": {},
   "outputs": [
    {
     "name": "stdout",
     "output_type": "stream",
     "text": [
      "Hello how 're you\n",
      "Hello how re you\n",
      "Hello how 're you\n"
     ]
    }
   ],
   "source": [
    "message = \"Hello how 're you\"\n",
    "print(message)\n",
    "\n",
    "# use \\ to skip escape sequences\n",
    "message = 'Hello how \\'re you'\n",
    "print(message)"
   ]
  },
  {
   "cell_type": "code",
   "execution_count": null,
   "metadata": {},
   "outputs": [],
   "source": []
  }
 ],
 "metadata": {
  "kernelspec": {
   "display_name": "Python 3",
   "language": "python",
   "name": "python3"
  },
  "language_info": {
   "codemirror_mode": {
    "name": "ipython",
    "version": 3
   },
   "file_extension": ".py",
   "mimetype": "text/x-python",
   "name": "python",
   "nbconvert_exporter": "python",
   "pygments_lexer": "ipython3",
   "version": "3.12.3"
  }
 },
 "nbformat": 4,
 "nbformat_minor": 2
}
