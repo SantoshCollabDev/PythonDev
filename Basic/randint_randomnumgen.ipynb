{
 "cells": [
  {
   "cell_type": "markdown",
   "metadata": {},
   "source": [
    "Number guessing game\n",
    "\n",
    "User will be given 6 chances\n",
    "\n",
    "guess a nunmber between 1 and 100"
   ]
  },
  {
   "cell_type": "code",
   "execution_count": 6,
   "metadata": {},
   "outputs": [
    {
     "name": "stdout",
     "output_type": "stream",
     "text": [
      "8\n"
     ]
    }
   ],
   "source": [
    "import random\n",
    "number = random.randint(1,100)\n",
    "print(number)"
   ]
  },
  {
   "cell_type": "code",
   "execution_count": 13,
   "metadata": {},
   "outputs": [
    {
     "name": "stdout",
     "output_type": "stream",
     "text": [
      "89\n",
      "Your number < number to be guessed\n",
      "Your number < number to be guessed\n",
      "Your number < number to be guessed\n",
      "Your number < number to be guessed\n",
      "Your number < number to be guessed\n",
      "Your number < number to be guessed\n",
      " Better Luck Next Time!\n"
     ]
    }
   ],
   "source": [
    "import random\n",
    "rand_gen_num = random.randint(1,100)\n",
    "print(rand_gen_num)\n",
    "\n",
    "user_won = False\n",
    "for chance in range(1,7):\n",
    "  user_guess_num = int(input(\"Enter a number between 1 to 100\"))\n",
    "  if user_guess_num < rand_gen_num:\n",
    "    print(\"Your number < number to be guessed\")\n",
    "  elif user_guess_num > rand_gen_num:\n",
    "    print(\"Your number > number to be guessed\")\n",
    "  else:\n",
    "    print(\"You have WON\")\n",
    "    user_won = True\n",
    "    break\n",
    "\n",
    "if not user_won:\n",
    "  print(\" Better Luck Next Time!\")"
   ]
  }
 ],
 "metadata": {
  "kernelspec": {
   "display_name": "Python 3",
   "language": "python",
   "name": "python3"
  },
  "language_info": {
   "codemirror_mode": {
    "name": "ipython",
    "version": 3
   },
   "file_extension": ".py",
   "mimetype": "text/x-python",
   "name": "python",
   "nbconvert_exporter": "python",
   "pygments_lexer": "ipython3",
   "version": "3.12.3"
  }
 },
 "nbformat": 4,
 "nbformat_minor": 2
}
