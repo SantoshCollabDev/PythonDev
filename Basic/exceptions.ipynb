{
 "cells": [
  {
   "cell_type": "code",
   "execution_count": 12,
   "metadata": {},
   "outputs": [],
   "source": [
    "# Exception handling in Python\n",
    "\n",
    "# When error happens do not show user and give a \n",
    "# decent message\n",
    "\n",
    "def divide(x,y):\n",
    "  return x//y"
   ]
  },
  {
   "cell_type": "code",
   "execution_count": 13,
   "metadata": {},
   "outputs": [
    {
     "ename": "ZeroDivisionError",
     "evalue": "integer division or modulo by zero",
     "output_type": "error",
     "traceback": [
      "\u001b[1;31m---------------------------------------------------------------------------\u001b[0m",
      "\u001b[1;31mZeroDivisionError\u001b[0m                         Traceback (most recent call last)",
      "Cell \u001b[1;32mIn[13], line 1\u001b[0m\n\u001b[1;32m----> 1\u001b[0m \u001b[43mdivide\u001b[49m\u001b[43m(\u001b[49m\u001b[38;5;241;43m5\u001b[39;49m\u001b[43m,\u001b[49m\u001b[38;5;241;43m0\u001b[39;49m\u001b[43m)\u001b[49m\n",
      "Cell \u001b[1;32mIn[12], line 7\u001b[0m, in \u001b[0;36mdivide\u001b[1;34m(x, y)\u001b[0m\n\u001b[0;32m      6\u001b[0m \u001b[38;5;28;01mdef\u001b[39;00m \u001b[38;5;21mdivide\u001b[39m(x,y):\n\u001b[1;32m----> 7\u001b[0m   \u001b[38;5;28;01mreturn\u001b[39;00m \u001b[43mx\u001b[49m\u001b[38;5;241;43m/\u001b[39;49m\u001b[38;5;241;43m/\u001b[39;49m\u001b[43my\u001b[49m\n",
      "\u001b[1;31mZeroDivisionError\u001b[0m: integer division or modulo by zero"
     ]
    }
   ],
   "source": [
    "divide(5,0)"
   ]
  },
  {
   "cell_type": "code",
   "execution_count": null,
   "metadata": {},
   "outputs": [],
   "source": [
    "def divide(x,y):\n",
    "  \"\"\" This fun is to divide numbers\n",
    "\n",
    "  Raises: \n",
    "    ZeroDivisionErrpr if the y is zero\n",
    "  \"\"\"\n",
    "  return x//y"
   ]
  },
  {
   "cell_type": "code",
   "execution_count": null,
   "metadata": {},
   "outputs": [
    {
     "name": "stdout",
     "output_type": "stream",
     "text": [
      "Invalid value passed\n"
     ]
    }
   ],
   "source": [
    "try:\n",
    "  divide(5,0)\n",
    "except:\n",
    "  print(\"Invalid value passed\")"
   ]
  },
  {
   "cell_type": "code",
   "execution_count": null,
   "metadata": {},
   "outputs": [
    {
     "name": "stdout",
     "output_type": "stream",
     "text": [
      "Zero division due to zero y value\n"
     ]
    }
   ],
   "source": [
    "try:\n",
    "  divide(5,0)\n",
    "except ZeroDivisionError:\n",
    "  print(\"Zero division due to zero y value\")\n",
    "except:\n",
    "  print(\"I dont know what error occurred\")"
   ]
  },
  {
   "cell_type": "code",
   "execution_count": null,
   "metadata": {},
   "outputs": [
    {
     "name": "stdout",
     "output_type": "stream",
     "text": [
      "I dont know what error occurred\n"
     ]
    }
   ],
   "source": [
    "try:\n",
    "  # forcing error through assertion \n",
    "  # to test otherthan zero division error\n",
    "  raise AssertionError  \n",
    "  divide(5,0)\n",
    "except ZeroDivisionError:\n",
    "  print(\"Zero division due to zero y value\")\n",
    "except:\n",
    "  print(\"I dont know what error occurred\")"
   ]
  },
  {
   "cell_type": "code",
   "execution_count": 14,
   "metadata": {},
   "outputs": [
    {
     "name": "stdout",
     "output_type": "stream",
     "text": [
      "I dont know what error occurred\n",
      "in the finally block\n"
     ]
    }
   ],
   "source": [
    "# finally --- whether error happens or not\n",
    "# finally section would be executed\n",
    "\n",
    "try:\n",
    "  # forcing error through assertion \n",
    "  # to test otherthan zero division error\n",
    "  raise AssertionError  \n",
    "  divide(5,0)\n",
    "except ZeroDivisionError:\n",
    "  print(\"Zero division due to zero y value\")\n",
    "except:\n",
    "  print(\"I dont know what error occurred\")\n",
    "finally:\n",
    "  print(\"in the finally block\")"
   ]
  },
  {
   "cell_type": "markdown",
   "metadata": {},
   "source": [
    "#### User Defined Exception"
   ]
  }
 ],
 "metadata": {
  "kernelspec": {
   "display_name": "Python 3",
   "language": "python",
   "name": "python3"
  },
  "language_info": {
   "codemirror_mode": {
    "name": "ipython",
    "version": 3
   },
   "file_extension": ".py",
   "mimetype": "text/x-python",
   "name": "python",
   "nbconvert_exporter": "python",
   "pygments_lexer": "ipython3",
   "version": "3.12.3"
  }
 },
 "nbformat": 4,
 "nbformat_minor": 2
}
