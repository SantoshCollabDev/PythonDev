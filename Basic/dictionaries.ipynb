{
 "cells": [
  {
   "cell_type": "code",
   "execution_count": 55,
   "metadata": {},
   "outputs": [],
   "source": [
    "#empty dictionary\n",
    "\n",
    "ipl_teams = {}"
   ]
  },
  {
   "cell_type": "code",
   "execution_count": 56,
   "metadata": {},
   "outputs": [],
   "source": [
    "# key is of type string and value of type string\n",
    "\n",
    "ipl_teams = {\n",
    "  'Hyderabad': 'Sun Risers Hyderabad',\n",
    "  'Mumbai': 'Mumbai Indians'\n",
    "}"
   ]
  },
  {
   "cell_type": "code",
   "execution_count": 57,
   "metadata": {},
   "outputs": [
    {
     "data": {
      "text/plain": [
       "'Sun Risers Hyderabad'"
      ]
     },
     "execution_count": 57,
     "metadata": {},
     "output_type": "execute_result"
    }
   ],
   "source": [
    "ipl_teams['Hyderabad']"
   ]
  },
  {
   "cell_type": "code",
   "execution_count": 58,
   "metadata": {},
   "outputs": [],
   "source": [
    "ipl_teams['Chennai'] = 'Chennai Super Kings'"
   ]
  },
  {
   "cell_type": "code",
   "execution_count": 59,
   "metadata": {},
   "outputs": [
    {
     "data": {
      "text/plain": [
       "{'Hyderabad': 'Sun Risers Hyderabad',\n",
       " 'Mumbai': 'Mumbai Indians',\n",
       " 'Chennai': 'Chennai Super Kings'}"
      ]
     },
     "execution_count": 59,
     "metadata": {},
     "output_type": "execute_result"
    }
   ],
   "source": [
    "ipl_teams"
   ]
  },
  {
   "cell_type": "code",
   "execution_count": 60,
   "metadata": {},
   "outputs": [
    {
     "name": "stdout",
     "output_type": "stream",
     "text": [
      "Hyderabad ==> Sun Risers Hyderabad\n",
      "Mumbai ==> Mumbai Indians\n",
      "Chennai ==> Chennai Super Kings\n"
     ]
    }
   ],
   "source": [
    "# Loop through dictionary\n",
    "\n",
    "for city,name in ipl_teams.items():\n",
    "  print(city, end=\" ==> \")\n",
    "  print(name)"
   ]
  },
  {
   "cell_type": "code",
   "execution_count": 61,
   "metadata": {},
   "outputs": [
    {
     "name": "stdout",
     "output_type": "stream",
     "text": [
      "Hyderabad\n",
      "Mumbai\n",
      "Chennai\n"
     ]
    }
   ],
   "source": [
    "# loop through keys\n",
    "\n",
    "for city in ipl_teams.keys():\n",
    "  print(city)"
   ]
  },
  {
   "cell_type": "code",
   "execution_count": 62,
   "metadata": {},
   "outputs": [
    {
     "name": "stdout",
     "output_type": "stream",
     "text": [
      "Sun Risers Hyderabad\n",
      "Mumbai Indians\n",
      "Chennai Super Kings\n"
     ]
    }
   ],
   "source": [
    "for team in ipl_teams.values():\n",
    "  print(team)"
   ]
  },
  {
   "cell_type": "code",
   "execution_count": 63,
   "metadata": {},
   "outputs": [
    {
     "data": {
      "text/plain": [
       "{'Hyderabad': 'Sun Risers Hyderabad',\n",
       " 'Mumbai': 'Mumbai Indians',\n",
       " 'Chennai': 'Chennai Super Kings'}"
      ]
     },
     "execution_count": 63,
     "metadata": {},
     "output_type": "execute_result"
    }
   ],
   "source": [
    "ipl_teams"
   ]
  },
  {
   "cell_type": "code",
   "execution_count": 64,
   "metadata": {},
   "outputs": [
    {
     "ename": "KeyError",
     "evalue": "'Delhi'",
     "output_type": "error",
     "traceback": [
      "\u001b[1;31m---------------------------------------------------------------------------\u001b[0m",
      "\u001b[1;31mKeyError\u001b[0m                                  Traceback (most recent call last)",
      "Cell \u001b[1;32mIn[64], line 3\u001b[0m\n\u001b[0;32m      1\u001b[0m \u001b[38;5;66;03m# try to access a non-existing value\u001b[39;00m\n\u001b[1;32m----> 3\u001b[0m \u001b[43mipl_teams\u001b[49m\u001b[43m[\u001b[49m\u001b[38;5;124;43m'\u001b[39;49m\u001b[38;5;124;43mDelhi\u001b[39;49m\u001b[38;5;124;43m'\u001b[39;49m\u001b[43m]\u001b[49m\n",
      "\u001b[1;31mKeyError\u001b[0m: 'Delhi'"
     ]
    }
   ],
   "source": [
    "# try to access a non-existing value\n",
    "\n",
    "ipl_teams['Delhi']"
   ]
  },
  {
   "cell_type": "code",
   "execution_count": null,
   "metadata": {},
   "outputs": [
    {
     "name": "stdout",
     "output_type": "stream",
     "text": [
      "None\n"
     ]
    }
   ],
   "source": [
    "\n",
    "# TO SEE OFF ERRORS USE ---> .get()\n",
    "\n",
    "result = ipl_teams.get('Delhi')\n",
    "print(result)"
   ]
  },
  {
   "cell_type": "code",
   "execution_count": null,
   "metadata": {},
   "outputs": [],
   "source": [
    "# COPY Dictionaries\n",
    "\n",
    "my_ipl_tams = ipl_teams\n",
    "\n",
    "my_ipl_tams['Delhi'] = 'Delhi Capitals'"
   ]
  },
  {
   "cell_type": "code",
   "execution_count": null,
   "metadata": {},
   "outputs": [
    {
     "data": {
      "text/plain": [
       "{'Hyderabad': 'Sun Risers Hyderabad',\n",
       " 'Mumbai': 'Mumbai Indians',\n",
       " 'Chennai': 'Chennai Super Kings',\n",
       " 'Delhi': 'Delhi Capitals'}"
      ]
     },
     "execution_count": 51,
     "metadata": {},
     "output_type": "execute_result"
    }
   ],
   "source": [
    "# original teams updated - WITHOUT COPY\n",
    "\n",
    "ipl_teams"
   ]
  },
  {
   "cell_type": "code",
   "execution_count": null,
   "metadata": {},
   "outputs": [],
   "source": [
    "my_other_ipl_teams = ipl_teams.copy()"
   ]
  },
  {
   "cell_type": "code",
   "execution_count": null,
   "metadata": {},
   "outputs": [],
   "source": [
    "my_other_ipl_teams['Banagalore'] = 'Royal Challengers Bnagalore'"
   ]
  },
  {
   "cell_type": "code",
   "execution_count": null,
   "metadata": {},
   "outputs": [
    {
     "data": {
      "text/plain": [
       "{'Hyderabad': 'Sun Risers Hyderabad',\n",
       " 'Mumbai': 'Mumbai Indians',\n",
       " 'Chennai': 'Chennai Super Kings',\n",
       " 'Delhi': 'Delhi Capitals'}"
      ]
     },
     "execution_count": 54,
     "metadata": {},
     "output_type": "execute_result"
    }
   ],
   "source": [
    "# Banglore DIDNT GET ADDED in original -- .copy()\n",
    "\n",
    "ipl_teams"
   ]
  }
 ],
 "metadata": {
  "kernelspec": {
   "display_name": "Python 3",
   "language": "python",
   "name": "python3"
  },
  "language_info": {
   "codemirror_mode": {
    "name": "ipython",
    "version": 3
   },
   "file_extension": ".py",
   "mimetype": "text/x-python",
   "name": "python",
   "nbconvert_exporter": "python",
   "pygments_lexer": "ipython3",
   "version": "3.12.3"
  }
 },
 "nbformat": 4,
 "nbformat_minor": 2
}
